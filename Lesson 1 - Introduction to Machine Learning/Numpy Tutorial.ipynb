{
 "cells": [
  {
   "cell_type": "markdown",
   "id": "7d6dec1b",
   "metadata": {},
   "source": [
    "# Numpy Tutorial\n",
    "\n",
    "Numpy provides support for large, multi-dimensional arrays and matrices as well as mathematical functions to operate on these arrays\n",
    "\n",
    "Documentation: https://numpy.org/doc/stable/reference/index.html"
   ]
  },
  {
   "cell_type": "code",
   "execution_count": 2,
   "id": "7197832e",
   "metadata": {},
   "outputs": [],
   "source": [
    "import numpy as np"
   ]
  },
  {
   "cell_type": "code",
   "execution_count": 22,
   "id": "bef5c033",
   "metadata": {},
   "outputs": [
    {
     "name": "stdout",
     "output_type": "stream",
     "text": [
      "[0 1 2 3 4 5]  a\n",
      "\n",
      "\n",
      "[[ 0  1  2]\n",
      " [ 3  4  5]\n",
      " [ 6  7  8]\n",
      " [ 9 10 11]]  b\n",
      "\n",
      "\n",
      "[[[ 0  1  2  3]\n",
      "  [ 4  5  6  7]\n",
      "  [ 8  9 10 11]]\n",
      "\n",
      " [[12 13 14 15]\n",
      "  [16 17 18 19]\n",
      "  [20 21 22 23]]]  c\n",
      "\n"
     ]
    }
   ],
   "source": [
    "#create and print arrays \n",
    "\n",
    "a = np.arange(6)                         # 1d array\n",
    "print(a, ' a\\n\\n') \n",
    "\n",
    "b = np.arange(12).reshape(4,3)           # 2d array\n",
    "print(b, ' b\\n\\n') \n",
    "c = np.arange(24).reshape(2,3,4)         # 3d array\n",
    "print(c, ' c\\n')"
   ]
  },
  {
   "cell_type": "code",
   "execution_count": 23,
   "id": "b26f1e34",
   "metadata": {},
   "outputs": [
    {
     "name": "stdout",
     "output_type": "stream",
     "text": [
      "[[0. 0.]\n",
      " [0. 0.]] a\n",
      "\n",
      "[[1. 1.]] b\n",
      "\n",
      "[[7 7]\n",
      " [7 7]] c\n",
      "\n",
      "[[1. 0.]\n",
      " [0. 1.]] d\n",
      "\n",
      "[[0.1399758  0.26190786]\n",
      " [0.87739624 0.181359  ]] e\n",
      "\n"
     ]
    }
   ],
   "source": [
    "a = np.zeros((2,2))   # Create an array of all zeros\n",
    "print(a, 'a\\n')              # Prints \"[[ 0.  0.]\n",
    "                      #          [ 0.  0.]]\"\n",
    "\n",
    "b = np.ones((1,2))    # Create an array of all ones\n",
    "print(b, 'b\\n')              # Prints \"[[ 1.  1.]]\"\n",
    "\n",
    "c = np.full((2,2), 7)  # Create a constant array\n",
    "print(c, 'c\\n')               # Prints \"[[ 7.  7.]\n",
    "                       #          [ 7.  7.]]\"\n",
    "\n",
    "d = np.eye(2)         # Create a 2x2 identity matrix\n",
    "print(d, 'd\\n')              # Prints \"[[ 1.  0.]\n",
    "                      #          [ 0.  1.]]\"\n",
    "\n",
    "e = np.random.random((2,2))  # Create an array filled with random values\n",
    "print(e, 'e\\n')                     # Might print \"[[ 0.91940167  0.08143941]\n",
    "               "
   ]
  },
  {
   "cell_type": "markdown",
   "id": "0b7c480e",
   "metadata": {},
   "source": [
    "### Slicing\n",
    "\n",
    "See: "
   ]
  },
  {
   "cell_type": "code",
   "execution_count": 24,
   "id": "c7147e3c",
   "metadata": {},
   "outputs": [
    {
     "name": "stdout",
     "output_type": "stream",
     "text": [
      "[[2 3]\n",
      " [6 7]] b\n",
      "\n",
      "[[ 3  4]\n",
      " [ 7  8]\n",
      " [11 12]] c\n",
      "\n",
      "2\n",
      "77\n",
      "77\n"
     ]
    }
   ],
   "source": [
    "# Create the following rank 2 array with shape (3, 4)\n",
    "# [[ 1  2  3  4]\n",
    "#  [ 5  6  7  8]\n",
    "#  [ 9 10 11 12]]\n",
    "a = np.array([[1,2,3,4], [5,6,7,8], [9,10,11,12]])\n",
    "\n",
    "# Use slicing to pull out the subarray consisting of the first 2 rows\n",
    "# and columns 1 and 2; b is the following array of shape (2, 2):\n",
    "# [[2 3]\n",
    "#  [6 7]]\n",
    "b = a[:2, 1:3]\n",
    "print(b, 'b\\n')\n",
    "\n",
    "# Use slicing to pull out the subarray consisting of the last 2 columns from all rows\n",
    "# b is the following array of shape (3, 2):\n",
    "# [[2 3]\n",
    "#  [6 7]]\n",
    "c = a[:, -2:]\n",
    "print(c, 'c\\n')\n",
    "\n",
    "# A slice of an array is a view into the same data, so modifying it\n",
    "# will modify the original array.\n",
    "print(a[0, 1])   # Prints \"2\"\n",
    "b[1, 1] = 77     # b[0, 0] is the same piece of data as a[0, 1]\n",
    "print(a[1, 2])   # Prints \"77\"\n",
    "print(c[1, 0])   # Prints \"77\""
   ]
  },
  {
   "cell_type": "code",
   "execution_count": 27,
   "id": "982c0a6b",
   "metadata": {},
   "outputs": [
    {
     "name": "stdout",
     "output_type": "stream",
     "text": [
      "[5 6 7 8] (4,)\n",
      "[[5 6 7 8]] (1, 4) \n",
      "\n",
      "[ 2  6 10] (3,)\n",
      "[[ 2]\n",
      " [ 6]\n",
      " [10]] (3, 1) \n",
      "\n",
      "[ 2  6 10] (3,)\n",
      "[[ 2]\n",
      " [ 6]\n",
      " [10]] (3, 1)\n"
     ]
    }
   ],
   "source": [
    "# Create the following rank 2 array with shape (3, 4)\n",
    "# [[ 1  2  3  4]\n",
    "#  [ 5  6  7  8]\n",
    "#  [ 9 10 11 12]]\n",
    "a = np.array([[1,2,3,4], [5,6,7,8], [9,10,11,12]])\n",
    "\n",
    "# Two ways of accessing the data in the middle row of the array.\n",
    "# Mixing integer indexing with slices yields an array of lower rank,\n",
    "# while using only slices yields an array of the same rank as the\n",
    "# original array:\n",
    "row_r1 = a[1, :]    # Rank 1 view of the second row of a\n",
    "row_r2 = a[1:2, :]  # Rank 2 view of the second row of a\n",
    "print(row_r1, row_r1.shape)  # Prints \"[5 6 7 8] (4,)\"\n",
    "print(row_r2, row_r2.shape, '\\n')  # Prints \"[[5 6 7 8]] (1, 4)\"\n",
    "\n",
    "# We can make the same distinction when accessing columns of an array:\n",
    "col_r1 = a[:, 1]\n",
    "col_r2 = a[:, 1:2]\n",
    "print(col_r1, col_r1.shape)  # Prints \"[ 2  6 10] (3,)\"\n",
    "print(col_r2, col_r2.shape, '\\n')  # Prints \"[[ 2]\n",
    "                             #          [ 6]\n",
    "                             #          [10]] (3, 1)\"\n",
    "#Reshape \n",
    "col1_r1 = col_r1.reshape(3)\n",
    "print(col_r1, col_r1.shape)\n",
    "col_r1 = col_r1.reshape(3, 1)\n",
    "print(col_r1, col_r1.shape)"
   ]
  },
  {
   "cell_type": "markdown",
   "id": "d2a5edd1",
   "metadata": {},
   "source": [
    "### Numpy Array Math"
   ]
  },
  {
   "cell_type": "code",
   "execution_count": null,
   "id": "1a98d885",
   "metadata": {},
   "outputs": [],
   "source": [
    "x = np.array([[1,2],[3,4]], dtype=np.float64)\n",
    "y = np.array([[5,6],[7,8]], dtype=np.float64)\n",
    "\n",
    "# Elementwise sum; both produce the array\n",
    "# [[ 6.0  8.0]\n",
    "#  [10.0 12.0]]\n",
    "print(x + y)\n",
    "print(np.add(x, y))\n",
    "\n",
    "# Elementwise difference; both produce the array\n",
    "# [[-4.0 -4.0]\n",
    "#  [-4.0 -4.0]]\n",
    "print(x - y)\n",
    "print(np.subtract(x, y))\n",
    "\n",
    "# Elementwise product; both produce the array\n",
    "# [[ 5.0 12.0]\n",
    "#  [21.0 32.0]]\n",
    "print(x * y)\n",
    "print(np.multiply(x, y))\n",
    "\n",
    "# Elementwise division; both produce the array\n",
    "# [[ 0.2         0.33333333]\n",
    "#  [ 0.42857143  0.5       ]]\n",
    "print(x / y)\n",
    "print(np.divide(x, y))\n",
    "\n",
    "# Elementwise square root; produces the array\n",
    "# [[ 1.          1.41421356]\n",
    "#  [ 1.73205081  2.        ]]\n",
    "print(np.sqrt(x))\n",
    "\n",
    "#https://cs231n.github.io/python-numpy-tutorial/"
   ]
  },
  {
   "cell_type": "markdown",
   "id": "2bf99232",
   "metadata": {},
   "source": [
    "#### Inner Products"
   ]
  },
  {
   "cell_type": "code",
   "execution_count": null,
   "id": "837b5ff0",
   "metadata": {},
   "outputs": [],
   "source": [
    "x = np.array([[1,2],[3,4]])\n",
    "y = np.array([[5,6],[7,8]])\n",
    "\n",
    "v = np.array([9,10])\n",
    "w = np.array([11, 12])\n",
    "\n",
    "# Inner product of vectors; both produce 219\n",
    "print(v.dot(w))\n",
    "print(np.dot(v, w))\n",
    "\n",
    "# Matrix / vector product; both produce the rank 1 array [29 67]\n",
    "print(x.dot(v))\n",
    "print(np.dot(x, v))\n",
    "\n",
    "# Matrix / matrix product; both produce the rank 2 array\n",
    "# [[19 22]\n",
    "#  [43 50]]\n",
    "print(x.dot(y))\n",
    "print(np.dot(x, y))"
   ]
  },
  {
   "cell_type": "code",
   "execution_count": 6,
   "id": "aed4dadf",
   "metadata": {},
   "outputs": [
    {
     "name": "stdout",
     "output_type": "stream",
     "text": [
      "10\n",
      "[4 6]\n",
      "[3 7]\n",
      " ----------\n",
      "[[1 2]\n",
      " [3 4]]\n",
      "[[1 3]\n",
      " [2 4]]\n",
      "[1 2 3]\n",
      "[1 2 3]\n",
      " ----------\n",
      "[[ 2  2  4]\n",
      " [ 5  5  7]\n",
      " [ 8  8 10]\n",
      " [11 11 13]]\n"
     ]
    }
   ],
   "source": [
    "#source: https://cs231n.github.io/python-numpy-tutorial/\n",
    "\n",
    "import numpy as np\n",
    "\n",
    "x = np.array([[1,2],[3,4]])\n",
    "\n",
    "print(np.sum(x))  # Compute sum of all elements; prints \"10\"\n",
    "print(np.sum(x, axis=0))  # Compute sum of each column; prints \"[4 6]\"\n",
    "print(np.sum(x, axis=1))  # Compute sum of each row; prints \"[3 7]\"\n",
    "\n",
    "print(' ----------')\n",
    "\n",
    "x = np.array([[1,2], [3,4]])\n",
    "print(x)    # Prints \"[[1 2]\n",
    "            #          [3 4]]\"\n",
    "print(x.T)  # Prints \"[[1 3]\n",
    "            #          [2 4]]\"\n",
    "\n",
    "# Note that taking the transpose of a rank 1 array does nothing:\n",
    "v = np.array([1,2,3])\n",
    "print(v)    # Prints \"[1 2 3]\"\n",
    "print(v.T)  # Prints \"[1 2 3]\"\n",
    "\n",
    "\n",
    "\n",
    "print(' ----------')\n",
    "\n",
    "# We will add the vector v to each row of the matrix x,\n",
    "# storing the result in the matrix y\n",
    "x = np.array([[1,2,3], [4,5,6], [7,8,9], [10, 11, 12]])\n",
    "v = np.array([1, 0, 1])\n",
    "y = np.empty_like(x)   # Create an empty matrix with the same shape as x\n",
    "\n",
    "# Add the vector v to each row of the matrix x with an explicit loop\n",
    "for i in range(4):\n",
    "    y[i, :] = x[i, :] + v\n",
    "\n",
    "# Now y is the following\n",
    "# [[ 2  2  4]\n",
    "#  [ 5  5  7]\n",
    "#  [ 8  8 10]\n",
    "#  [11 11 13]]\n",
    "print(y)\n"
   ]
  },
  {
   "cell_type": "markdown",
   "id": "2321d0e4",
   "metadata": {},
   "source": [
    "### Concatenating and Reshaping Numpy Arrays"
   ]
  },
  {
   "cell_type": "code",
   "execution_count": 29,
   "id": "7a5cca81",
   "metadata": {},
   "outputs": [
    {
     "name": "stdout",
     "output_type": "stream",
     "text": [
      "[[1 2 3]\n",
      " [2 3 4]]   vertical_stack\n"
     ]
    }
   ],
   "source": [
    "a = np.array([1, 2, 3])\n",
    "b = np.array([2, 3, 4])\n",
    "\n",
    "vertical_stack = np.vstack((a,b))\n",
    "print(vertical_stack, '  vertical_stack')"
   ]
  },
  {
   "cell_type": "code",
   "execution_count": 30,
   "id": "ac9d4da3",
   "metadata": {},
   "outputs": [
    {
     "name": "stdout",
     "output_type": "stream",
     "text": [
      "[1 2 3 2 3 4]   horizontal_stack\n"
     ]
    }
   ],
   "source": [
    "horizontal_stack = np.hstack((a,b))\n",
    "print(horizontal_stack, '  horizontal_stack')"
   ]
  },
  {
   "cell_type": "code",
   "execution_count": 31,
   "id": "d856a1e5",
   "metadata": {},
   "outputs": [
    {
     "name": "stdout",
     "output_type": "stream",
     "text": [
      "[[1 2]\n",
      " [3 4]\n",
      " [5 6]]   concatenate  axis=0\n",
      "[[1 2 5]\n",
      " [3 4 6]]   concatenate  axis=1\n",
      "[1 2 3 4 5 6]   concatenate  axis= none\n"
     ]
    }
   ],
   "source": [
    "a = np.array([[1, 2], [3, 4]])\n",
    "b = np.array([[5, 6]])\n",
    "ab = np.concatenate((a, b), axis=0)\n",
    "print(ab, '  concatenate  axis=0')\n",
    "\n",
    "ab = np.concatenate((a, b.T), axis=1)  # note b.T is same is b.transpose()\n",
    "print(ab, '  concatenate  axis=1')\n",
    "\n",
    "ab = np.concatenate((a, b), axis=None)\n",
    "print(ab, '  concatenate  axis= none')"
   ]
  },
  {
   "cell_type": "code",
   "execution_count": 32,
   "id": "d95b9773",
   "metadata": {},
   "outputs": [
    {
     "name": "stdout",
     "output_type": "stream",
     "text": [
      "[0. 1. 2. 3. 4. 5. 6. 7. 8.]   original x\n",
      "[array([0., 1., 2.]), array([3., 4., 5.]), array([6., 7., 8.])]   x split into three\n"
     ]
    }
   ],
   "source": [
    "x = np.arange(9.0)\n",
    "x_split = np.split(x, 3)\n",
    "\n",
    "print(x, '  original x')\n",
    "\n",
    "print(x_split, '  x split into three')"
   ]
  },
  {
   "cell_type": "code",
   "execution_count": 5,
   "id": "85314924",
   "metadata": {},
   "outputs": [
    {
     "name": "stdout",
     "output_type": "stream",
     "text": [
      "[0 1 2 3 4 5]   original z\n",
      "[[0 1]\n",
      " [2 3]\n",
      " [4 5]]   reshaped z\n",
      "[0 1 2 3 4 5]   flatten z\n",
      "\n",
      "[[0 1]\n",
      " [2 3]\n",
      " [4 5]]\n",
      "(3, 2)\n",
      "\n",
      "\n",
      "[[0 1 2 3 4 5]]\n",
      "(1, 6)\n"
     ]
    }
   ],
   "source": [
    "z = np.arange(6) # produces and array of 0 - 5\n",
    "print(z, '  original z')\n",
    "\n",
    "z_reshape = z.reshape((3, 2))\n",
    "print(z_reshape, '  reshaped z')\n",
    "\n",
    "z_flat = np.reshape(z_reshape, 6)\n",
    "print(z_flat, '  flatten z\\n')\n",
    "\n",
    "#if we know what one axis should be reshaped to, but we don't know how this will affect another \n",
    "# axis, then you can use -1 and numpy will figure it out for us\n",
    "z_idk = z.reshape((3,-1))\n",
    "print(z_idk)\n",
    "print(z_idk.shape)\n",
    "print(\"\\n\")\n",
    "z_idk = z_idk.reshape(-1,6)\n",
    "print(z_idk)\n",
    "print(z_idk.shape)"
   ]
  },
  {
   "cell_type": "code",
   "execution_count": 35,
   "id": "6bbab3ca",
   "metadata": {},
   "outputs": [
    {
     "name": "stdout",
     "output_type": "stream",
     "text": [
      "[0 1 2 3 4 5]   another way to flatten z\n"
     ]
    }
   ],
   "source": [
    "z_flat= z_reshape.flatten()\n",
    "print(z_flat, '  another way to flatten z')"
   ]
  },
  {
   "cell_type": "markdown",
   "id": "5a6e89d0",
   "metadata": {},
   "source": [
    "### Saving and Loading Numpy Arrays"
   ]
  },
  {
   "cell_type": "code",
   "execution_count": 40,
   "id": "8d40eb01",
   "metadata": {},
   "outputs": [
    {
     "name": "stdout",
     "output_type": "stream",
     "text": [
      "(10, 10)\n"
     ]
    }
   ],
   "source": [
    "b = np.random.rand(10,10)\n",
    "\n",
    "for x in range(1, b.shape[0]):\n",
    "    for y in range(1, b.shape[1], 2):\n",
    "        b[x][y] = y*x \n",
    "\n",
    "double_mat =   b * 2\n",
    "print(double_mat.shape)\n",
    "\n",
    "np.savetxt('mynumpy.txt', double_mat, delimiter = ' ',  fmt='%1.2f' )\n",
    "np.savetxt('mynumpy.csv', double_mat, delimiter = ',',  fmt='%1.2f' )\n",
    "np.savetxt('mynumpy_fmt.csv', double_mat, delimiter = ',',  fmt='%1.5f' )"
   ]
  },
  {
   "cell_type": "code",
   "execution_count": 48,
   "id": "a97e0201",
   "metadata": {},
   "outputs": [
    {
     "name": "stdout",
     "output_type": "stream",
     "text": [
      "(10, 10)\n",
      "[1.53 1.95 1.53 1.16 0.51 0.34 1.3  0.97 0.25 1.59]\n",
      "(10, 10)\n",
      "[1.53 1.95 1.53 1.16 0.51 0.34 1.3  0.97 0.25 1.59]\n",
      "(10, 10)\n",
      "[1.53206 1.94686 1.53043 1.16296 0.50824 0.3371  1.29506 0.96976 0.24857\n",
      " 1.59499]\n"
     ]
    }
   ],
   "source": [
    "data_load = np.loadtxt('mynumpy.txt')\n",
    "print(data_load.shape)\n",
    "print(data_load[0])\n",
    "\n",
    "data_load_csv = np.loadtxt('mynumpy.csv', delimiter = ',')\n",
    "print(data_load_csv.shape)\n",
    "print(data_load_csv[0])\n",
    "\n",
    "data_load_fmt = np.loadtxt('mynumpy_fmt.csv', delimiter = ',')\n",
    "print(data_load_fmt.shape)\n",
    "print(data_load_fmt[0])"
   ]
  }
 ],
 "metadata": {
  "kernelspec": {
   "display_name": "Python 3 (ipykernel)",
   "language": "python",
   "name": "python3"
  },
  "language_info": {
   "codemirror_mode": {
    "name": "ipython",
    "version": 3
   },
   "file_extension": ".py",
   "mimetype": "text/x-python",
   "name": "python",
   "nbconvert_exporter": "python",
   "pygments_lexer": "ipython3",
   "version": "3.10.13"
  }
 },
 "nbformat": 4,
 "nbformat_minor": 5
}
